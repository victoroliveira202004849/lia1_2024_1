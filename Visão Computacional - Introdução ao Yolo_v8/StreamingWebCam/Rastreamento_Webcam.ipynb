{
 "cells": [
  {
   "cell_type": "code",
   "execution_count": 1,
   "id": "d0f534d6-c611-4515-9d22-1c6277d499d1",
   "metadata": {},
   "outputs": [],
   "source": [
    "import time\n",
    "import cv2"
   ]
  },
  {
   "cell_type": "code",
   "execution_count": 2,
   "id": "479ad62c-0d80-456c-9aca-b4e64e307663",
   "metadata": {},
   "outputs": [],
   "source": [
    "# carregando a rede neural\n",
    "net = cv2.dnn.readNet('yolov4-tiny.weights', 'yolov4-tiny.cfg')\n",
    "\n",
    "# criando o modelo a partir da rede neural\n",
    "model = cv2.dnn.DetectionModel(net)\n",
    "\n",
    "# setando os parametros de entrada para o modelo utilizado\n",
    "model.setInputParams(size=(416,416), scale=(1/255))"
   ]
  },
  {
   "cell_type": "code",
   "execution_count": 3,
   "id": "99ea30f2-ecba-4087-8c42-8ade12838163",
   "metadata": {},
   "outputs": [],
   "source": [
    "# carregando os nomes para uma lista\n",
    "class_names = []\n",
    "with open('coco_names.txt','r') as f:\n",
    "    class_names = [cname.strip() for cname in f.readlines()]"
   ]
  },
  {
   "cell_type": "code",
   "execution_count": 4,
   "id": "76b15fd7-0661-4d81-bbb2-10ef3e6f05ce",
   "metadata": {},
   "outputs": [],
   "source": [
    "# definindo as cores de cada nome\n",
    "name_color = []\n",
    "for i in class_names:\n",
    "    color =(((sum(map(ord,i))*2)%255),((sum(map(ord,i))*3)%255),((sum(map(ord,i))*5)%255))\n",
    "    name_color.append(color)"
   ]
  },
  {
   "cell_type": "code",
   "execution_count": 5,
   "id": "84cd7b22-2b8b-45db-a6be-fc742419d3fb",
   "metadata": {},
   "outputs": [],
   "source": [
    "cap =  cv2.VideoCapture(0)"
   ]
  },
  {
   "cell_type": "code",
   "execution_count": 6,
   "id": "ac1cd471-667d-49d0-b787-f962f65e7e71",
   "metadata": {},
   "outputs": [],
   "source": [
    "# Defina as novas dimensões desejadas\n",
    "nova_largura = 1920\n",
    "nova_altura = 1040\n",
    "\n",
    "#codigo de detecçao\n",
    "while cap.isOpened():\n",
    "\n",
    "    _, frame = cap.read()\n",
    "    \n",
    "    # Redimensione o frame para as novas dimensões\n",
    "    frame = cv2.resize(frame, (nova_largura, nova_altura))\n",
    "    \n",
    "    start = time.time()\n",
    "    classes, scores, boxes = model.detect(frame,0.1,0.2)\n",
    "    end = time.time()\n",
    "\n",
    "    for (classid, score, box) in zip(classes, scores, boxes):\n",
    "        color = name_color[classid]\n",
    "        label = f\"{class_names[classid]}: {score}\"\n",
    "        \n",
    "        cv2.rectangle(frame, box, color, 2)\n",
    "        cv2.putText(frame, label, (box[0], box[1] - 10), cv2.FONT_HERSHEY_COMPLEX, 0.5, color, 2)\n",
    "    \n",
    "    fps_label = f\"FPS: {round((1/(end - start)),2)}\"\n",
    "\n",
    "    cv2.putText(frame, fps_label, (0,25), cv2.FONT_HERSHEY_COMPLEX, 1, (0,0,0), 5)\n",
    "    cv2.putText(frame, fps_label, (0,25), cv2.FONT_HERSHEY_COMPLEX, 1, (0,255,0), 3)\n",
    "\n",
    "    cv2.imshow(\"detections\", frame)\n",
    "\n",
    "    if cv2.waitKey(1) == 27:\n",
    "        break\n",
    "\n",
    "cap.release()\n",
    "cv2.destroyAllWindows()"
   ]
  },
  {
   "cell_type": "code",
   "execution_count": null,
   "id": "48614fc9-d54c-42a3-ae7b-892109bbd97d",
   "metadata": {},
   "outputs": [],
   "source": []
  }
 ],
 "metadata": {
  "kernelspec": {
   "display_name": "Python 3 (ipykernel)",
   "language": "python",
   "name": "python3"
  },
  "language_info": {
   "codemirror_mode": {
    "name": "ipython",
    "version": 3
   },
   "file_extension": ".py",
   "mimetype": "text/x-python",
   "name": "python",
   "nbconvert_exporter": "python",
   "pygments_lexer": "ipython3",
   "version": "3.11.7"
  }
 },
 "nbformat": 4,
 "nbformat_minor": 5
}
